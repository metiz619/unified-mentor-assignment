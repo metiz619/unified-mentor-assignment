{
 "cells": [
  {
   "cell_type": "markdown",
   "metadata": {
    "id": "XHvoVqK5mYA-"
   },
   "source": [
    "# <center>Pandas Assignment</center>"
   ]
  },
  {
   "cell_type": "markdown",
   "metadata": {
    "id": "v9Qb2_aumYBF"
   },
   "source": [
    "Import pandas and numpy with their aliases"
   ]
  },
  {
   "cell_type": "code",
   "execution_count": null,
   "metadata": {
    "id": "ihFP1wXZmYBF"
   },
   "outputs": [],
   "source": [
    "\n",
    "\n"
   ]
  },
  {
   "cell_type": "markdown",
   "metadata": {
    "id": "0b8hUBhTmYBG"
   },
   "source": [
    "Create a variable a = pd.Series([ 100, 200, 300, 400])"
   ]
  },
  {
   "cell_type": "code",
   "execution_count": 1,
   "metadata": {
    "id": "hzvzkbNYmYBH"
   },
   "outputs": [],
   "source": [
    "# a = \n",
    "\n",
    "\n"
   ]
  },
  {
   "cell_type": "markdown",
   "metadata": {
    "id": "BSyNFbitmYBH"
   },
   "source": [
    "Print a, and data type"
   ]
  },
  {
   "cell_type": "code",
   "execution_count": null,
   "metadata": {
    "id": "GMmFsjPamYBH",
    "outputId": "e21bf8f8-3d7a-4ec6-ea93-7885f9b0a648"
   },
   "outputs": [],
   "source": [
    "\n",
    "\n",
    "\n"
   ]
  },
  {
   "cell_type": "markdown",
   "metadata": {
    "id": "z0FryxOXmYBI"
   },
   "source": [
    "Using indexing access the element 300 from the series a."
   ]
  },
  {
   "cell_type": "code",
   "execution_count": null,
   "metadata": {
    "id": "wERTsh-4mYBJ",
    "outputId": "de60a58f-c084-4955-ab6e-b453f6280c98"
   },
   "outputs": [],
   "source": [
    "\n"
   ]
  },
  {
   "cell_type": "markdown",
   "metadata": {
    "id": "HHEKyOtemYBJ"
   },
   "source": [
    "What are the values of index for series a?"
   ]
  },
  {
   "cell_type": "code",
   "execution_count": null,
   "metadata": {
    "id": "uQOnSJQ4mYBJ",
    "outputId": "de695171-b817-4495-bf3b-be91ade7c7c4"
   },
   "outputs": [],
   "source": [
    "\n",
    "\n"
   ]
  },
  {
   "cell_type": "markdown",
   "metadata": {
    "id": "EuFjG74wmYBJ"
   },
   "source": [
    "Change the index to  ['c', 'a', 'b', 'd']"
   ]
  },
  {
   "cell_type": "code",
   "execution_count": null,
   "metadata": {
    "id": "1ueAAFiJmYBK",
    "outputId": "cc9737be-1c56-4b92-febb-ad609f07e14a"
   },
   "outputs": [],
   "source": [
    "\n",
    "\n",
    "\n"
   ]
  },
  {
   "cell_type": "markdown",
   "metadata": {
    "id": "ZdZLyRO7mYBK"
   },
   "source": [
    "Access the value in the series with index 'd'"
   ]
  },
  {
   "cell_type": "code",
   "execution_count": null,
   "metadata": {
    "id": "oN1ce3GymYBK",
    "outputId": "cba39f6a-cd4d-4934-b5cf-49cafd4ddc31"
   },
   "outputs": [],
   "source": [
    "\n",
    "\n"
   ]
  },
  {
   "cell_type": "markdown",
   "metadata": {
    "id": "eQSGwKtFmYBK"
   },
   "source": [
    "Sort the values wrt to the index and print it"
   ]
  },
  {
   "cell_type": "code",
   "execution_count": null,
   "metadata": {
    "id": "-arvricBmYBL",
    "outputId": "f1286103-c02c-4ee2-e25f-f8b0d8215198"
   },
   "outputs": [],
   "source": [
    "\n",
    "\n",
    "\n"
   ]
  },
  {
   "cell_type": "markdown",
   "metadata": {
    "id": "g-fXVSK2mYBL"
   },
   "source": [
    "Create a new Pandas Series b having index as 'e', 'f', and 'g' and value 800,450,100 and print it"
   ]
  },
  {
   "cell_type": "code",
   "execution_count": 2,
   "metadata": {
    "id": "fAg_rI3hmYBL",
    "outputId": "0bf9ddea-64c2-402a-f129-cd640ffec5b2"
   },
   "outputs": [],
   "source": [
    "# b = \n",
    "\n",
    "\n",
    "\n",
    "\n"
   ]
  },
  {
   "cell_type": "markdown",
   "metadata": {
    "id": "jWhRRtF1mYBL"
   },
   "source": [
    "Append b series at the end of a series"
   ]
  },
  {
   "cell_type": "code",
   "execution_count": 3,
   "metadata": {
    "id": "TBV8hkRXmYBL"
   },
   "outputs": [],
   "source": [
    "# a =\n",
    "\n"
   ]
  },
  {
   "cell_type": "code",
   "execution_count": 4,
   "metadata": {
    "id": "Xfm5WgBYmYBM",
    "outputId": "45dbeb71-cdd2-46ac-8b76-947f9e4eab54"
   },
   "outputs": [],
   "source": [
    "#print a again after appending b into it\n",
    "\n",
    "\n",
    "\n"
   ]
  },
  {
   "cell_type": "markdown",
   "metadata": {
    "id": "6lz_BR0umYBM"
   },
   "source": [
    "Sort the values in descending order of a and print the index of the sorted series"
   ]
  },
  {
   "cell_type": "code",
   "execution_count": 5,
   "metadata": {
    "id": "5srJV0y0mYBM"
   },
   "outputs": [],
   "source": [
    "# a = \n",
    "\n"
   ]
  },
  {
   "cell_type": "code",
   "execution_count": null,
   "metadata": {
    "id": "9OxmwQRAmYBM",
    "outputId": "d5a2ecdc-aca2-42da-ed66-18102af915bc"
   },
   "outputs": [],
   "source": [
    "\n",
    "\n"
   ]
  },
  {
   "cell_type": "markdown",
   "metadata": {
    "id": "OQ5gj4romYBM"
   },
   "source": [
    "## Pandas DataFrame"
   ]
  },
  {
   "cell_type": "markdown",
   "metadata": {
    "id": "tD7de_2amYBM"
   },
   "source": [
    "### Part 1"
   ]
  },
  {
   "cell_type": "markdown",
   "metadata": {
    "id": "z_nAQa4BmYBN"
   },
   "source": [
    "Create a pandas dataframe df from the series 'a' that we used in the last section, print the dataframe"
   ]
  },
  {
   "cell_type": "code",
   "execution_count": 6,
   "metadata": {
    "id": "ojD-B6FvmYBN",
    "outputId": "628c307e-fe67-471b-9ff6-e1167f0e9529"
   },
   "outputs": [],
   "source": [
    "# df = \n",
    "\n",
    "\n",
    "\n",
    "\n"
   ]
  },
  {
   "cell_type": "code",
   "execution_count": null,
   "metadata": {
    "id": "2r2SyCYNmYBN"
   },
   "outputs": [],
   "source": []
  },
  {
   "cell_type": "markdown",
   "metadata": {
    "id": "yzrIH3irmYBN"
   },
   "source": [
    "What is the shape of the datafarme <br>\n",
    "(also, what does it imply?)"
   ]
  },
  {
   "cell_type": "code",
   "execution_count": null,
   "metadata": {
    "id": "aFo5tNrVmYBN",
    "outputId": "f3145f5e-75b2-4bf0-87f3-07c405845ad4"
   },
   "outputs": [],
   "source": [
    "\n",
    "\n",
    "\n"
   ]
  },
  {
   "cell_type": "markdown",
   "metadata": {
    "id": "Dl0Hr0LSmYBO"
   },
   "source": [
    "Hey! remember shape (7,1) implies dataframe has 7 rows and 1 column. "
   ]
  },
  {
   "cell_type": "markdown",
   "metadata": {
    "id": "hwcaXl43mYBO"
   },
   "source": [
    "What is the index of the dataframe, is it same as the series 'a' "
   ]
  },
  {
   "cell_type": "code",
   "execution_count": 7,
   "metadata": {
    "id": "1-gMxT-emYBO",
    "outputId": "25df79a2-b1c6-45af-b179-53b79fe23fcd"
   },
   "outputs": [],
   "source": [
    "# yep its same as the series.\n",
    "\n"
   ]
  },
  {
   "cell_type": "markdown",
   "metadata": {
    "id": "C5wadnBymYBO"
   },
   "source": [
    "print the head and tail of the dataframe. <br>\n",
    "Additional - (what does head and tali represent?)"
   ]
  },
  {
   "cell_type": "code",
   "execution_count": null,
   "metadata": {
    "id": "U2vxYrPnmYBO",
    "outputId": "7f439669-2345-46f9-f46e-d134fb09bbd7"
   },
   "outputs": [],
   "source": [
    "\n",
    "\n"
   ]
  },
  {
   "cell_type": "code",
   "execution_count": null,
   "metadata": {
    "id": "nikOdGC_mYBO",
    "outputId": "2ab575b8-468b-4fbe-a6fa-80a607a83857"
   },
   "outputs": [],
   "source": [
    "\n",
    "\n"
   ]
  },
  {
   "cell_type": "markdown",
   "metadata": {
    "id": "Ci2tiwbBmYBO"
   },
   "source": [
    "Rename the column of the dataframe as 'points'"
   ]
  },
  {
   "cell_type": "code",
   "execution_count": null,
   "metadata": {
    "id": "K3OsbVD3mYBP",
    "outputId": "f49057a3-e48a-4124-c1f9-3ccdf264dbf3"
   },
   "outputs": [],
   "source": [
    "\n",
    "\n",
    "\n"
   ]
  },
  {
   "cell_type": "markdown",
   "metadata": {
    "id": "bBV0VfzzmYBP"
   },
   "source": [
    "Create another Series 'fruits', which contains random names of fruits from ['orange','mango','apple']. The series should contain 7 elements, randomly selected from ['orange','mango','apple']"
   ]
  },
  {
   "cell_type": "code",
   "execution_count": 8,
   "metadata": {
    "id": "baUmpsuhmYBP",
    "outputId": "8cbe922c-d257-4587-a7ff-93de58af7c0e"
   },
   "outputs": [],
   "source": [
    "#Create fruits array\n",
    "\n",
    "# fruits =\n",
    "\n",
    "\n",
    "\n"
   ]
  },
  {
   "cell_type": "code",
   "execution_count": 9,
   "metadata": {
    "id": "QrbnjM8FmYBP",
    "outputId": "f7d318ae-c463-4a03-fb32-466034a5073b"
   },
   "outputs": [],
   "source": [
    "#Create series fruits out of fruits array\n",
    "\n",
    "# fruits =\n",
    "\n",
    "\n"
   ]
  },
  {
   "cell_type": "markdown",
   "metadata": {
    "id": "20slMbq5mYBP"
   },
   "source": [
    "Change the index of fruits to the index of dataframe df"
   ]
  },
  {
   "cell_type": "code",
   "execution_count": null,
   "metadata": {
    "id": "1n4THBgkmYBQ",
    "outputId": "6ca845e1-a58b-4a40-d18d-8a59a62a7f8f"
   },
   "outputs": [],
   "source": [
    "\n",
    "\n",
    "\n",
    "\n",
    "\n"
   ]
  },
  {
   "cell_type": "markdown",
   "metadata": {
    "id": "oPv8dJ_2mYBQ"
   },
   "source": [
    "Add this fruits series as a new column to the dataframe df with its column name as 'fruits'\n",
    "<br>print the head of the dataframe to verify"
   ]
  },
  {
   "cell_type": "code",
   "execution_count": null,
   "metadata": {
    "id": "tit_GDscmYBQ",
    "outputId": "a2d0549f-2846-4331-c159-2f76af6fe9e2"
   },
   "outputs": [],
   "source": [
    "\n",
    "\n",
    "\n",
    "\n"
   ]
  },
  {
   "cell_type": "code",
   "execution_count": null,
   "metadata": {
    "id": "X3A6oKUXmYBQ",
    "outputId": "230256fe-9ef4-413a-913f-bd389ac35402"
   },
   "outputs": [],
   "source": [
    "\n",
    "\n",
    "\n",
    "\n"
   ]
  },
  {
   "cell_type": "markdown",
   "metadata": {
    "id": "ACsvenslmYBQ"
   },
   "source": [
    "## Pandas Concatenation"
   ]
  },
  {
   "cell_type": "markdown",
   "metadata": {
    "id": "cwgg82N0mYBQ"
   },
   "source": [
    "Create a dataframe  d1 where the cols are  ‘city’ : [‘Chandigarh’, ‘Delhi’, ‘Kanpur’, ‘Chennai’, ‘Manali’ ] and ‘Temperature’ : [15, 22, 20, 26,-2] "
   ]
  },
  {
   "cell_type": "code",
   "execution_count": 10,
   "metadata": {
    "id": "09tWwU18mYBR"
   },
   "outputs": [],
   "source": [
    "# d1 = \n",
    "\n",
    "\n"
   ]
  },
  {
   "cell_type": "markdown",
   "metadata": {
    "id": "XAquuUx_mYBR"
   },
   "source": [
    "Print(d1)"
   ]
  },
  {
   "cell_type": "code",
   "execution_count": null,
   "metadata": {
    "id": "tEaf6dUVmYBR",
    "outputId": "02dd1795-381a-4d83-c8cc-37e15c066de8"
   },
   "outputs": [],
   "source": [
    "\n",
    "\n",
    "\n"
   ]
  },
  {
   "cell_type": "markdown",
   "metadata": {
    "id": "YmZ9u-4FmYBR"
   },
   "source": [
    "What is the shape of d1."
   ]
  },
  {
   "cell_type": "code",
   "execution_count": null,
   "metadata": {
    "id": "upPyfWR7mYBR",
    "outputId": "578b226c-493a-4e62-eb42-f29196452acf"
   },
   "outputs": [],
   "source": [
    "\n",
    "\n",
    "\n"
   ]
  },
  {
   "cell_type": "markdown",
   "metadata": {
    "id": "JtBQ5SLtmYBS"
   },
   "source": [
    "Set city = d1['city']"
   ]
  },
  {
   "cell_type": "code",
   "execution_count": null,
   "metadata": {
    "id": "mzE78QzrmYBS"
   },
   "outputs": [],
   "source": [
    "\n",
    "\n",
    "\n"
   ]
  },
  {
   "cell_type": "markdown",
   "metadata": {
    "id": "WubWnFIcmYBS"
   },
   "source": [
    "print city <br>\n",
    "What is the type of city."
   ]
  },
  {
   "cell_type": "code",
   "execution_count": null,
   "metadata": {
    "id": "6d4EjYTemYBS",
    "outputId": "013b3d5f-4f17-45ca-bdbc-7c4f5166df33"
   },
   "outputs": [],
   "source": [
    "\n",
    "\n",
    "\n"
   ]
  },
  {
   "cell_type": "markdown",
   "metadata": {
    "id": "uUdrLgg6mYBS"
   },
   "source": [
    "Create another datafeame 'd2' where the columns are <br>\n",
    "'city' - ['Bengalaru','Coimbatore','Srirangam','Pondicherry'] <br>\n",
    "'Temperature' - [24,35,36,39]"
   ]
  },
  {
   "cell_type": "code",
   "execution_count": 11,
   "metadata": {
    "id": "CFBCGcvhmYBS",
    "outputId": "fc5089d3-dfb0-438a-b654-920f5d5dac5d"
   },
   "outputs": [],
   "source": [
    "# d2 = \n",
    "\n",
    "\n",
    "\n"
   ]
  },
  {
   "cell_type": "markdown",
   "metadata": {
    "id": "HivVdLN5mYBT"
   },
   "source": [
    "print the shape of this dataframe"
   ]
  },
  {
   "cell_type": "code",
   "execution_count": null,
   "metadata": {
    "id": "9FFgtQJhmYBT",
    "outputId": "e2f88a69-e913-4b37-c118-8e6b3f9153c7"
   },
   "outputs": [],
   "source": [
    "\n"
   ]
  },
  {
   "cell_type": "markdown",
   "metadata": {
    "id": "UK38h5ktmYBT"
   },
   "source": [
    "merge the two dataframes together, save it in a new dataframe named 'd3'"
   ]
  },
  {
   "cell_type": "code",
   "execution_count": 12,
   "metadata": {
    "id": "GMbOPfjCmYBT",
    "outputId": "66c2b828-c00a-4393-c49c-68057f447fb2"
   },
   "outputs": [],
   "source": [
    "# d3 = \n",
    "\n",
    "\n",
    "\n"
   ]
  },
  {
   "cell_type": "markdown",
   "metadata": {
    "id": "1dGlNGzjmYBT"
   },
   "source": [
    "Select the part of the dataframe such that it contains cities wherer temp is less then or equal to 20 <br>\n",
    "How many cities are there? "
   ]
  },
  {
   "cell_type": "code",
   "execution_count": null,
   "metadata": {
    "id": "1vtC2UkgmYBT",
    "outputId": "629b26f6-140b-4f57-c794-2202d80300b2"
   },
   "outputs": [],
   "source": [
    "\n",
    "\n",
    "\n"
   ]
  },
  {
   "cell_type": "markdown",
   "metadata": {
    "id": "82QIQRQUmYBT"
   },
   "source": [
    "Select the part of the dataframe such that it contains the cities where tempearature greater than or equal to 35"
   ]
  },
  {
   "cell_type": "code",
   "execution_count": null,
   "metadata": {
    "id": "Ea_hMtyGmYBU",
    "outputId": "540b5d81-ad25-4408-927f-0919887a8100"
   },
   "outputs": [],
   "source": [
    "\n",
    "\n",
    "\n"
   ]
  },
  {
   "cell_type": "markdown",
   "metadata": {
    "id": "BrYscXpWmYBU"
   },
   "source": [
    "## Applying functions to columns and creating new columns"
   ]
  },
  {
   "cell_type": "markdown",
   "metadata": {
    "id": "7Z4ioDxtmYBU"
   },
   "source": [
    "We need to create another column in d3, which contains  a boolean value for each city to indicate whether it's a union territory or not. \n",
    "- HINT: Chandigarh, Pondicherry and Delhi are only 3 union territories here. \n"
   ]
  },
  {
   "cell_type": "code",
   "execution_count": 15,
   "metadata": {
    "id": "FR2wgv6tmYBU"
   },
   "outputs": [],
   "source": [
    "# write function here\n",
    "\n",
    "# def is_ut(x):\n",
    "    \n",
    "#     # write code below\n",
    "    \n",
    "# d3['is_ut'] = \n"
   ]
  },
  {
   "cell_type": "code",
   "execution_count": 16,
   "metadata": {
    "id": "0hd7QjComYBU",
    "outputId": "8a788eef-b933-48b0-d1f0-fdaa5b25d102"
   },
   "outputs": [],
   "source": [
    "# print d3\n",
    "\n"
   ]
  },
  {
   "cell_type": "markdown",
   "metadata": {
    "id": "z88YETlMmYBU"
   },
   "source": [
    "The temperatures mentioned in ‘Temperature’ column are mentioned in Celsius, we need another column which contains the same in Fahrenheit. "
   ]
  },
  {
   "cell_type": "markdown",
   "metadata": {
    "id": "ywp07m-xmYBU"
   },
   "source": [
    "HINT - \n",
    "- Define a function c_to_f which takes input temp in celsius and returns a value with temperature in Fahrenheit.\n",
    "- To check: c_to_f(10) should return 50. \n"
   ]
  },
  {
   "cell_type": "code",
   "execution_count": null,
   "metadata": {
    "id": "V0x_0IAAmYBV"
   },
   "outputs": [],
   "source": [
    "# write function here\n",
    "\n",
    "\n",
    "\n",
    "\n",
    "\n"
   ]
  },
  {
   "cell_type": "code",
   "execution_count": 17,
   "metadata": {
    "id": "Wc9meranmYBV",
    "outputId": "d83f0f45-482d-48a6-9226-2ea5ccac4e55"
   },
   "outputs": [],
   "source": [
    "# check function c_to_f(10)\n",
    "\n",
    "\n"
   ]
  },
  {
   "cell_type": "code",
   "execution_count": 18,
   "metadata": {
    "id": "H79GUcoImYBV",
    "outputId": "834607ff-0221-45b5-d5b0-64b13a3acdfa"
   },
   "outputs": [],
   "source": [
    "# apply function c_to_f to d3 to create a column 'temp_farenhiet'\n",
    "\n",
    "\n"
   ]
  },
  {
   "cell_type": "markdown",
   "metadata": {
    "id": "Wj0p6JKHmYBV"
   },
   "source": [
    "## Indexing and selecting rows in DataFrame"
   ]
  },
  {
   "cell_type": "markdown",
   "metadata": {
    "id": "fFitRJy2mYBV"
   },
   "source": [
    "Select subset of the dataframe d1 such that it contains the cities which are union territories."
   ]
  },
  {
   "cell_type": "code",
   "execution_count": null,
   "metadata": {
    "id": "Kg8OSVz0mYBV",
    "outputId": "686083a4-3b1f-4c7d-8fb8-d26aac318e52"
   },
   "outputs": [],
   "source": [
    "\n",
    "\n"
   ]
  },
  {
   "cell_type": "markdown",
   "metadata": {
    "id": "XnxQl4ZPmYBV"
   },
   "source": [
    "Select a subset of the dataframe d1 such that it contains the cities which only have temperature above 90 Farenhiet."
   ]
  },
  {
   "cell_type": "code",
   "execution_count": null,
   "metadata": {
    "id": "9o62VSn7mYBV",
    "outputId": "0cf73a78-2dfc-4be7-9bea-43fd0318b657"
   },
   "outputs": [],
   "source": [
    "\n",
    "\n",
    "\n"
   ]
  },
  {
   "cell_type": "markdown",
   "metadata": {
    "id": "IQq7K2EtmYBW"
   },
   "source": [
    "Select only the first three rows of the dataframe d1. \n"
   ]
  },
  {
   "cell_type": "code",
   "execution_count": null,
   "metadata": {
    "id": "PlmVOyAAmYBW",
    "outputId": "2c1d6ad5-1e08-4f31-d0c0-c1fbf8289d32"
   },
   "outputs": [],
   "source": []
  },
  {
   "cell_type": "markdown",
   "metadata": {
    "id": "MKNIbwW2mYBW"
   },
   "source": [
    "Select all the rows and last two columns in the dataframe.\n",
    "\n",
    "\n"
   ]
  },
  {
   "cell_type": "code",
   "execution_count": null,
   "metadata": {
    "id": "WfQasVJImYBW",
    "outputId": "c157a66e-61b9-4a9a-e7f1-6ee392ccfe3a"
   },
   "outputs": [],
   "source": []
  },
  {
   "cell_type": "markdown",
   "metadata": {
    "id": "LQ9xspkHmYBW"
   },
   "source": [
    "## Groupby"
   ]
  },
  {
   "cell_type": "code",
   "execution_count": 24,
   "metadata": {},
   "outputs": [],
   "source": [
    "# Create a dataframe using dictionary of your choice\n",
    "\n",
    "# data = \n",
    "\n",
    "\n"
   ]
  },
  {
   "cell_type": "code",
   "execution_count": 21,
   "metadata": {},
   "outputs": [],
   "source": [
    "# Use Groupby of single column with aggregate sum()\n",
    "\n",
    "\n"
   ]
  },
  {
   "cell_type": "code",
   "execution_count": 22,
   "metadata": {},
   "outputs": [],
   "source": [
    "# Use Groupby of single column with aggregate count()\n",
    "\n"
   ]
  },
  {
   "cell_type": "code",
   "execution_count": 23,
   "metadata": {},
   "outputs": [],
   "source": [
    "# Use Groupby of single column with aggregate min() and max()\n",
    "\n",
    "\n"
   ]
  },
  {
   "cell_type": "code",
   "execution_count": 25,
   "metadata": {},
   "outputs": [],
   "source": [
    "# Use Groupby of any 2 columns with aggregate mean()\n",
    "\n",
    "\n"
   ]
  },
  {
   "cell_type": "code",
   "execution_count": 26,
   "metadata": {},
   "outputs": [],
   "source": [
    "# Use Groupby of any 2 columns with aggregate min() and max()\n",
    "\n",
    "\n"
   ]
  },
  {
   "cell_type": "code",
   "execution_count": null,
   "metadata": {},
   "outputs": [],
   "source": []
  },
  {
   "cell_type": "markdown",
   "metadata": {
    "id": "goEgED0xmYBY"
   },
   "source": [
    "## Data Range"
   ]
  },
  {
   "cell_type": "markdown",
   "metadata": {
    "id": "jJOxVdLemYBY"
   },
   "source": [
    "Create a pandas daterange where starting date is 1st of January,2020 and end date is 1st of April 2021, store it in a new variable named 'a'"
   ]
  },
  {
   "cell_type": "code",
   "execution_count": 19,
   "metadata": {
    "id": "Nvx8f5GTmYBZ"
   },
   "outputs": [],
   "source": [
    "# a = \n",
    "\n"
   ]
  },
  {
   "cell_type": "markdown",
   "metadata": {
    "id": "ybvAMVSzmYBZ"
   },
   "source": [
    "print a"
   ]
  },
  {
   "cell_type": "code",
   "execution_count": null,
   "metadata": {
    "id": "TOe-Alj8mYBZ",
    "outputId": "a0e830f7-6826-4082-98c4-cc02bcfe43f3"
   },
   "outputs": [],
   "source": [
    "\n",
    "\n"
   ]
  },
  {
   "cell_type": "markdown",
   "metadata": {
    "id": "vI1gctGmmYBZ"
   },
   "source": [
    "What is the len of a?"
   ]
  },
  {
   "cell_type": "code",
   "execution_count": null,
   "metadata": {
    "id": "D66uR7vDmYBZ",
    "outputId": "c3fcbc58-7b57-4cf8-bc44-85303b525c6e"
   },
   "outputs": [],
   "source": [
    "\n",
    "\n"
   ]
  },
  {
   "cell_type": "markdown",
   "metadata": {
    "id": "MQvcL-SImYBZ"
   },
   "source": [
    "What is the type of a?"
   ]
  },
  {
   "cell_type": "code",
   "execution_count": null,
   "metadata": {
    "id": "cnb8Z0CXmYBZ",
    "outputId": "a72dc4cd-5225-4098-8084-900f69caeb81"
   },
   "outputs": [],
   "source": [
    "\n",
    "\n",
    "\n"
   ]
  },
  {
   "cell_type": "code",
   "execution_count": null,
   "metadata": {},
   "outputs": [],
   "source": []
  }
 ],
 "metadata": {
  "colab": {
   "collapsed_sections": [],
   "provenance": []
  },
  "kernelspec": {
   "display_name": "Python 3",
   "language": "python",
   "name": "python3"
  },
  "language_info": {
   "codemirror_mode": {
    "name": "ipython",
    "version": 3
   },
   "file_extension": ".py",
   "mimetype": "text/x-python",
   "name": "python",
   "nbconvert_exporter": "python",
   "pygments_lexer": "ipython3",
   "version": "3.7.4"
  }
 },
 "nbformat": 4,
 "nbformat_minor": 5
}
